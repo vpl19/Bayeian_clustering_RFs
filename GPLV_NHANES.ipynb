{
 "cells": [
  {
   "cell_type": "markdown",
   "metadata": {},
   "source": [
    "Gaussian process latent variable model on NHANES using Pyro\n",
    "source:\n",
    "https://pyro.ai/examples/gplvm.html"
   ]
  },
  {
   "cell_type": "code",
   "execution_count": 1,
   "metadata": {},
   "outputs": [],
   "source": [
    "import os\n",
    "import matplotlib.pyplot as plt\n",
    "import pandas as pd\n",
    "import torch\n",
    "from torch.nn import Parameter\n",
    "\n",
    "import pyro\n",
    "import pyro.contrib.gp as gp\n",
    "import pyro.distributions as dist\n",
    "import pyro.ops.stats as stats\n",
    "\n",
    "smoke_test = ('CI' in os.environ)  # ignore; used to check code integrity in the Pyro repo\n",
    "assert pyro.__version__.startswith('1.8.0')\n",
    "pyro.set_rng_seed(1)"
   ]
  },
  {
   "cell_type": "code",
   "execution_count": 2,
   "metadata": {},
   "outputs": [
    {
     "name": "stdout",
     "output_type": "stream",
     "text": [
      "Data shape: (58876, 9)\n",
      "---------------------\n",
      "\n",
      "Data labels: ['Young', 'Middage', 'Old']\n",
      "--------------------------------------------------------------------------------------\n",
      "\n",
      "Show a small subset of the data:\n"
     ]
    },
    {
     "data": {
      "text/html": [
       "<div>\n",
       "<style scoped>\n",
       "    .dataframe tbody tr th:only-of-type {\n",
       "        vertical-align: middle;\n",
       "    }\n",
       "\n",
       "    .dataframe tbody tr th {\n",
       "        vertical-align: top;\n",
       "    }\n",
       "\n",
       "    .dataframe thead th {\n",
       "        text-align: right;\n",
       "    }\n",
       "</style>\n",
       "<table border=\"1\" class=\"dataframe\">\n",
       "  <thead>\n",
       "    <tr style=\"text-align: right;\">\n",
       "      <th></th>\n",
       "      <th>height</th>\n",
       "      <th>bmi</th>\n",
       "      <th>WHtR</th>\n",
       "      <th>hba1c</th>\n",
       "      <th>hdl</th>\n",
       "      <th>non_hdl</th>\n",
       "      <th>sbp</th>\n",
       "      <th>dbp</th>\n",
       "      <th>eGFR</th>\n",
       "    </tr>\n",
       "  </thead>\n",
       "  <tbody>\n",
       "    <tr>\n",
       "      <th>Young</th>\n",
       "      <td>178.8</td>\n",
       "      <td>25.524376</td>\n",
       "      <td>0.496644</td>\n",
       "      <td>5.3</td>\n",
       "      <td>0.9842</td>\n",
       "      <td>5.9570</td>\n",
       "      <td>117</td>\n",
       "      <td>59</td>\n",
       "      <td>95.625163</td>\n",
       "    </tr>\n",
       "    <tr>\n",
       "      <th>Young</th>\n",
       "      <td>162.2</td>\n",
       "      <td>23.433188</td>\n",
       "      <td>0.557953</td>\n",
       "      <td>4.6</td>\n",
       "      <td>1.4245</td>\n",
       "      <td>2.7195</td>\n",
       "      <td>130</td>\n",
       "      <td>88</td>\n",
       "      <td>114.670330</td>\n",
       "    </tr>\n",
       "    <tr>\n",
       "      <th>Middage</th>\n",
       "      <td>156.9</td>\n",
       "      <td>27.642813</td>\n",
       "      <td>0.570427</td>\n",
       "      <td>5.3</td>\n",
       "      <td>1.7094</td>\n",
       "      <td>4.4030</td>\n",
       "      <td>134</td>\n",
       "      <td>75</td>\n",
       "      <td>87.324169</td>\n",
       "    </tr>\n",
       "    <tr>\n",
       "      <th>Young</th>\n",
       "      <td>177.4</td>\n",
       "      <td>29.392363</td>\n",
       "      <td>0.576099</td>\n",
       "      <td>4.6</td>\n",
       "      <td>1.1137</td>\n",
       "      <td>4.7138</td>\n",
       "      <td>135</td>\n",
       "      <td>94</td>\n",
       "      <td>77.957926</td>\n",
       "    </tr>\n",
       "    <tr>\n",
       "      <th>Middage</th>\n",
       "      <td>168.2</td>\n",
       "      <td>24.954721</td>\n",
       "      <td>0.558859</td>\n",
       "      <td>9.1</td>\n",
       "      <td>1.3209</td>\n",
       "      <td>5.4131</td>\n",
       "      <td>121</td>\n",
       "      <td>69</td>\n",
       "      <td>79.104629</td>\n",
       "    </tr>\n",
       "  </tbody>\n",
       "</table>\n",
       "</div>"
      ],
      "text/plain": [
       "         height        bmi      WHtR  hba1c     hdl  non_hdl  sbp  dbp  \\\n",
       "Young     178.8  25.524376  0.496644    5.3  0.9842   5.9570  117   59   \n",
       "Young     162.2  23.433188  0.557953    4.6  1.4245   2.7195  130   88   \n",
       "Middage   156.9  27.642813  0.570427    5.3  1.7094   4.4030  134   75   \n",
       "Young     177.4  29.392363  0.576099    4.6  1.1137   4.7138  135   94   \n",
       "Middage   168.2  24.954721  0.558859    9.1  1.3209   5.4131  121   69   \n",
       "\n",
       "               eGFR  \n",
       "Young     95.625163  \n",
       "Young    114.670330  \n",
       "Middage   87.324169  \n",
       "Young     77.957926  \n",
       "Middage   79.104629  "
      ]
     },
     "execution_count": 2,
     "metadata": {},
     "output_type": "execute_result"
    }
   ],
   "source": [
    "df = pd.read_csv('/Users/victorlhoste/Desktop/Local_PhD/NHANES/Data/data_pyro.csv', index_col=0)\n",
    "df.index=df[[\"age_group\"]].values.flatten()\n",
    "df=df[[\"height\",\"bmi\",\"WHtR\",\"hba1c\",\"hdl\",\"non_hdl\",\"sbp\",\"dbp\",\"eGFR\"]]\n",
    "print(\"Data shape: {}\\n{}\\n\".format(df.shape, \"-\" * 21))\n",
    "print(\"Data labels: {}\\n{}\\n\".format(df.index.unique().tolist(), \"-\" * 86))\n",
    "print(\"Show a small subset of the data:\")\n",
    "df.head()"
   ]
  },
  {
   "cell_type": "code",
   "execution_count": 3,
   "metadata": {},
   "outputs": [],
   "source": [
    "data = torch.tensor(df.values, dtype=torch.get_default_dtype())\n",
    "# we need to transpose data to correct its shape\n",
    "y = data.t()"
   ]
  },
  {
   "cell_type": "code",
   "execution_count": 4,
   "metadata": {},
   "outputs": [],
   "source": [
    "\n",
    "# we setup the mean of our prior over X\n",
    "X_prior_mean = torch.zeros(y.size(1), 2)  \n",
    "#X_prior_mean[:, 0] = time"
   ]
  },
  {
   "cell_type": "code",
   "execution_count": 5,
   "metadata": {},
   "outputs": [],
   "source": [
    "kernel = gp.kernels.RBF(input_dim=2, lengthscale=torch.ones(2))\n",
    "\n",
    "# we clone here so that we don't change our prior during the course of training\n",
    "X = Parameter(X_prior_mean.clone())\n",
    "\n",
    "# we will use SparseGPRegression model with num_inducing=32;\n",
    "# initial values for Xu are sampled randomly from X_prior_mean\n",
    "Xu = stats.resample(X_prior_mean.clone(), 32)\n",
    "gplvm = gp.models.SparseGPRegression(X, y, kernel, Xu, noise=torch.tensor(0.01), jitter=1e-5)\n"
   ]
  },
  {
   "cell_type": "code",
   "execution_count": 6,
   "metadata": {},
   "outputs": [],
   "source": [
    "gplvm.X = pyro.nn.PyroSample(dist.Normal(X_prior_mean, 0.1).to_event())\n",
    "gplvm.autoguide(\"X\", dist.Normal)"
   ]
  },
  {
   "cell_type": "code",
   "execution_count": 7,
   "metadata": {},
   "outputs": [
    {
     "data": {
      "image/png": "[encoded data removed]",
      "text/plain": [
       "<Figure size 432x288 with 1 Axes>"
      ]
     },
     "metadata": {
      "needs_background": "light"
     },
     "output_type": "display_data"
    }
   ],
   "source": [
    "\n",
    "losses = gp.util.train(gplvm, num_steps=4000)\n",
    "\n",
    "# let's plot the loss curve after 4000 steps of training\n",
    "plt.plot(losses)\n",
    "plt.show()"
   ]
  },
  {
   "cell_type": "code",
   "execution_count": 8,
   "metadata": {},
   "outputs": [],
   "source": [
    "gplvm.mode = \"guide\"\n",
    "X = gplvm.X"
   ]
  },
  {
   "cell_type": "markdown",
   "metadata": {},
   "source": [
    "Visualization of the results"
   ]
  },
  {
   "cell_type": "code",
   "execution_count": 12,
   "metadata": {},
   "outputs": [
    {
     "data": {
      "image/png": "[encoded data removed]",
      "text/plain": [
       "<Figure size 576x432 with 1 Axes>"
      ]
     },
     "metadata": {
      "needs_background": "light"
     },
     "output_type": "display_data"
    }
   ],
   "source": [
    "plt.figure(figsize=(8, 6))\n",
    "colors = plt.get_cmap(\"tab10\").colors[::-1]\n",
    "labels = df.index.unique()\n",
    "\n",
    "X = gplvm.X_loc.detach().numpy()\n",
    "for i, label in enumerate(labels):\n",
    "    X_i = X[df.index == label]\n",
    "    plt.scatter(X_i[:, 0], X_i[:, 1], c=[colors[i]], label=label)\n",
    "\n",
    "plt.legend()\n",
    "plt.xlabel(\"Latent var 1\", fontsize=14)\n",
    "plt.ylabel(\"Latent var 2\", fontsize=14)\n",
    "plt.title(\"This plot is useless but the code runs\", fontsize=16)\n",
    "plt.show()"
   ]
  },
  {
   "cell_type": "markdown",
   "metadata": {},
   "source": [
    "## The above was with continous latent variables\n",
    "In my case I want the latent variables aka my clusters to be categorical, that is what I am going to try below"
   ]
  },
  {
   "cell_type": "code",
   "execution_count": 15,
   "metadata": {},
   "outputs": [],
   "source": [
    "# I think the correct thing is to use MultiClass model (not sure though)\n",
    "# Actually no this a type of likelihood\n",
    "\n",
    "#gplvm = pyro.MultiClass(num_classes=3)\n",
    "\n"
   ]
  },
  {
   "cell_type": "code",
   "execution_count": 9,
   "metadata": {},
   "outputs": [
    {
     "data": {
      "text/plain": [
       "tensor([[-1.0156,  0.2566],\n",
       "        [ 0.2093,  0.4608],\n",
       "        [-0.5541,  1.7249],\n",
       "        ...,\n",
       "        [-0.2266, -0.0107],\n",
       "        [-0.6825,  0.6633],\n",
       "        [-0.3130,  0.7631]], grad_fn=<AddBackward0>)"
      ]
     },
     "execution_count": 9,
     "metadata": {},
     "output_type": "execute_result"
    }
   ],
   "source": []
  }
 ],
 "metadata": {
  "interpreter": {
   "hash": "019a4a8f7e1c41ac736e5243d7d3dc53b3f755a4f020afa0b74158986476ad4f"
  },
  "kernelspec": {
   "display_name": "Python 3.9.7 ('bayesian')",
   "language": "python",
   "name": "python3"
  },
  "language_info": {
   "codemirror_mode": {
    "name": "ipython",
    "version": 3
   },
   "file_extension": ".py",
   "mimetype": "text/x-python",
   "name": "python",
   "nbconvert_exporter": "python",
   "pygments_lexer": "ipython3",
   "version": "3.9.7"
  },
  "orig_nbformat": 4
 },
 "nbformat": 4,
 "nbformat_minor": 2
}
