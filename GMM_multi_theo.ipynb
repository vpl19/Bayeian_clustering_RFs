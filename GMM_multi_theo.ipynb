{
 "cells": [
  {
   "cell_type": "markdown",
   "metadata": {},
   "source": [
    "### GMM but multi-dimensional\n",
    "with theo's help, close to running\n",
    "\n",
    "Notes: \n",
    "I shouldn't use numpyro.param unless I am making my own guide, and I am "
   ]
  },
  {
   "cell_type": "code",
   "execution_count": 1,
   "metadata": {},
   "outputs": [],
   "source": [
    "import jax\n",
    "import jax.numpy as jnp\n",
    "import numpy as np\n",
    "import pandas as pd\n",
    "from matplotlib import pyplot\n",
    "%matplotlib inline\n",
    "\n",
    "import numpyro\n",
    "import numpyro.distributions as dist\n",
    "from numpyro.infer.autoguide import AutoDiagonalNormal\n",
    "from numpyro.infer.autoguide import AutoDelta\n",
    "from numpyro.infer import SVI, Trace_ELBO"
   ]
  },
  {
   "cell_type": "code",
   "execution_count": 2,
   "metadata": {},
   "outputs": [
    {
     "data": {
      "text/html": [
       "<div>\n",
       "<style scoped>\n",
       "    .dataframe tbody tr th:only-of-type {\n",
       "        vertical-align: middle;\n",
       "    }\n",
       "\n",
       "    .dataframe tbody tr th {\n",
       "        vertical-align: top;\n",
       "    }\n",
       "\n",
       "    .dataframe thead th {\n",
       "        text-align: right;\n",
       "    }\n",
       "</style>\n",
       "<table border=\"1\" class=\"dataframe\">\n",
       "  <thead>\n",
       "    <tr style=\"text-align: right;\">\n",
       "      <th></th>\n",
       "      <th>height</th>\n",
       "      <th>bmi</th>\n",
       "      <th>WHtR</th>\n",
       "      <th>hba1c</th>\n",
       "      <th>hdl</th>\n",
       "      <th>non_hdl</th>\n",
       "      <th>sbp</th>\n",
       "      <th>dbp</th>\n",
       "      <th>eGFR</th>\n",
       "      <th>age_group</th>\n",
       "    </tr>\n",
       "  </thead>\n",
       "  <tbody>\n",
       "    <tr>\n",
       "      <th>1</th>\n",
       "      <td>178.8</td>\n",
       "      <td>25.524376</td>\n",
       "      <td>0.496644</td>\n",
       "      <td>5.3</td>\n",
       "      <td>0.9842</td>\n",
       "      <td>5.9570</td>\n",
       "      <td>117</td>\n",
       "      <td>59</td>\n",
       "      <td>95.625163</td>\n",
       "      <td>Young</td>\n",
       "    </tr>\n",
       "    <tr>\n",
       "      <th>2</th>\n",
       "      <td>162.2</td>\n",
       "      <td>23.433188</td>\n",
       "      <td>0.557953</td>\n",
       "      <td>4.6</td>\n",
       "      <td>1.4245</td>\n",
       "      <td>2.7195</td>\n",
       "      <td>130</td>\n",
       "      <td>88</td>\n",
       "      <td>114.670330</td>\n",
       "      <td>Young</td>\n",
       "    </tr>\n",
       "    <tr>\n",
       "      <th>3</th>\n",
       "      <td>156.9</td>\n",
       "      <td>27.642813</td>\n",
       "      <td>0.570427</td>\n",
       "      <td>5.3</td>\n",
       "      <td>1.7094</td>\n",
       "      <td>4.4030</td>\n",
       "      <td>134</td>\n",
       "      <td>75</td>\n",
       "      <td>87.324169</td>\n",
       "      <td>Middage</td>\n",
       "    </tr>\n",
       "    <tr>\n",
       "      <th>4</th>\n",
       "      <td>177.4</td>\n",
       "      <td>29.392363</td>\n",
       "      <td>0.576099</td>\n",
       "      <td>4.6</td>\n",
       "      <td>1.1137</td>\n",
       "      <td>4.7138</td>\n",
       "      <td>135</td>\n",
       "      <td>94</td>\n",
       "      <td>77.957926</td>\n",
       "      <td>Young</td>\n",
       "    </tr>\n",
       "    <tr>\n",
       "      <th>5</th>\n",
       "      <td>168.2</td>\n",
       "      <td>24.954721</td>\n",
       "      <td>0.558859</td>\n",
       "      <td>9.1</td>\n",
       "      <td>1.3209</td>\n",
       "      <td>5.4131</td>\n",
       "      <td>121</td>\n",
       "      <td>69</td>\n",
       "      <td>79.104629</td>\n",
       "      <td>Middage</td>\n",
       "    </tr>\n",
       "  </tbody>\n",
       "</table>\n",
       "</div>"
      ],
      "text/plain": [
       "   height        bmi      WHtR  hba1c     hdl  non_hdl  sbp  dbp        eGFR  \\\n",
       "1   178.8  25.524376  0.496644    5.3  0.9842   5.9570  117   59   95.625163   \n",
       "2   162.2  23.433188  0.557953    4.6  1.4245   2.7195  130   88  114.670330   \n",
       "3   156.9  27.642813  0.570427    5.3  1.7094   4.4030  134   75   87.324169   \n",
       "4   177.4  29.392363  0.576099    4.6  1.1137   4.7138  135   94   77.957926   \n",
       "5   168.2  24.954721  0.558859    9.1  1.3209   5.4131  121   69   79.104629   \n",
       "\n",
       "  age_group  \n",
       "1     Young  \n",
       "2     Young  \n",
       "3   Middage  \n",
       "4     Young  \n",
       "5   Middage  "
      ]
     },
     "execution_count": 2,
     "metadata": {},
     "output_type": "execute_result"
    }
   ],
   "source": [
    "df = pd.read_csv('/Users/victorlhoste/Desktop/Local_PhD/NHANES/Data/data_pyro.csv', index_col=0)\n",
    "df.head()"
   ]
  },
  {
   "cell_type": "code",
   "execution_count": 3,
   "metadata": {},
   "outputs": [
    {
     "data": {
      "text/plain": [
       "(58876, 9)"
      ]
     },
     "execution_count": 3,
     "metadata": {},
     "output_type": "execute_result"
    }
   ],
   "source": [
    "df = df[[\"height\",\"bmi\",\"WHtR\",\"hba1c\",\"hdl\",\"non_hdl\",\"sbp\",\"dbp\",\"eGFR\"]]\n",
    "d=9 # dimension\n",
    "df_centered = df.apply(lambda x: (x - x.mean())/x.std() )\n",
    "#print(df_centered)\n",
    "# data=torch.tensor(df_centered.values)\n",
    "data=df_centered\n",
    "data.shape"
   ]
  },
  {
   "cell_type": "code",
   "execution_count": 4,
   "metadata": {},
   "outputs": [
    {
     "data": {
      "text/plain": [
       "DeviceArray([[ 0.4884729 , -0.34467286, -0.8172662 ,  0.08561976,\n",
       "               0.8492481 , -0.35912296,  0.6474882 ,  1.2089263 ,\n",
       "              -0.25985762]], dtype=float32)"
      ]
     },
     "execution_count": 4,
     "metadata": {},
     "output_type": "execute_result"
    }
   ],
   "source": [
    "# data.mean(axis=0)\n",
    "key = jax.random.PRNGKey(1) ### needed for Jax otherwise it doesn't run\n",
    "dist.MultivariateNormal(\n",
    "    jnp.zeros(9),\n",
    "    (0.5*jnp.eye(9))\n",
    ").sample(key, (1,))"
   ]
  },
  {
   "cell_type": "code",
   "execution_count": 5,
   "metadata": {},
   "outputs": [
    {
     "data": {
      "text/html": [
       "<div>\n",
       "<style scoped>\n",
       "    .dataframe tbody tr th:only-of-type {\n",
       "        vertical-align: middle;\n",
       "    }\n",
       "\n",
       "    .dataframe tbody tr th {\n",
       "        vertical-align: top;\n",
       "    }\n",
       "\n",
       "    .dataframe thead th {\n",
       "        text-align: right;\n",
       "    }\n",
       "</style>\n",
       "<table border=\"1\" class=\"dataframe\">\n",
       "  <thead>\n",
       "    <tr style=\"text-align: right;\">\n",
       "      <th></th>\n",
       "      <th>height</th>\n",
       "      <th>bmi</th>\n",
       "      <th>WHtR</th>\n",
       "      <th>hba1c</th>\n",
       "      <th>hdl</th>\n",
       "      <th>non_hdl</th>\n",
       "      <th>sbp</th>\n",
       "      <th>dbp</th>\n",
       "      <th>eGFR</th>\n",
       "    </tr>\n",
       "  </thead>\n",
       "  <tbody>\n",
       "    <tr>\n",
       "      <th>1</th>\n",
       "      <td>1.168186</td>\n",
       "      <td>-0.456668</td>\n",
       "      <td>-0.925723</td>\n",
       "      <td>-0.336735</td>\n",
       "      <td>-0.915115</td>\n",
       "      <td>1.936171</td>\n",
       "      <td>-0.392283</td>\n",
       "      <td>-1.058891</td>\n",
       "      <td>0.186490</td>\n",
       "    </tr>\n",
       "    <tr>\n",
       "      <th>2</th>\n",
       "      <td>-0.483296</td>\n",
       "      <td>-0.783355</td>\n",
       "      <td>-0.279489</td>\n",
       "      <td>-0.986232</td>\n",
       "      <td>0.150982</td>\n",
       "      <td>-0.940821</td>\n",
       "      <td>0.275890</td>\n",
       "      <td>1.343212</td>\n",
       "      <td>0.960026</td>\n",
       "    </tr>\n",
       "    <tr>\n",
       "      <th>3</th>\n",
       "      <td>-1.010577</td>\n",
       "      <td>-0.125724</td>\n",
       "      <td>-0.148007</td>\n",
       "      <td>-0.336735</td>\n",
       "      <td>0.840810</td>\n",
       "      <td>0.555215</td>\n",
       "      <td>0.481481</td>\n",
       "      <td>0.266407</td>\n",
       "      <td>-0.150661</td>\n",
       "    </tr>\n",
       "    <tr>\n",
       "      <th>4</th>\n",
       "      <td>1.028905</td>\n",
       "      <td>0.147592</td>\n",
       "      <td>-0.088218</td>\n",
       "      <td>-0.986232</td>\n",
       "      <td>-0.601557</td>\n",
       "      <td>0.831406</td>\n",
       "      <td>0.532879</td>\n",
       "      <td>1.840198</td>\n",
       "      <td>-0.531079</td>\n",
       "    </tr>\n",
       "    <tr>\n",
       "      <th>5</th>\n",
       "      <td>0.113625</td>\n",
       "      <td>-0.545659</td>\n",
       "      <td>-0.269946</td>\n",
       "      <td>3.189105</td>\n",
       "      <td>-0.099864</td>\n",
       "      <td>1.452837</td>\n",
       "      <td>-0.186692</td>\n",
       "      <td>-0.230580</td>\n",
       "      <td>-0.484505</td>\n",
       "    </tr>\n",
       "    <tr>\n",
       "      <th>...</th>\n",
       "      <td>...</td>\n",
       "      <td>...</td>\n",
       "      <td>...</td>\n",
       "      <td>...</td>\n",
       "      <td>...</td>\n",
       "      <td>...</td>\n",
       "      <td>...</td>\n",
       "      <td>...</td>\n",
       "      <td>...</td>\n",
       "    </tr>\n",
       "    <tr>\n",
       "      <th>121359</th>\n",
       "      <td>1.297519</td>\n",
       "      <td>-0.740389</td>\n",
       "      <td>-1.156648</td>\n",
       "      <td>0.034406</td>\n",
       "      <td>1.279791</td>\n",
       "      <td>-0.411455</td>\n",
       "      <td>-0.083896</td>\n",
       "      <td>0.597732</td>\n",
       "      <td>0.077173</td>\n",
       "    </tr>\n",
       "    <tr>\n",
       "      <th>121362</th>\n",
       "      <td>-1.050372</td>\n",
       "      <td>-1.318701</td>\n",
       "      <td>-0.624310</td>\n",
       "      <td>1.611755</td>\n",
       "      <td>0.464540</td>\n",
       "      <td>-1.999555</td>\n",
       "      <td>0.841267</td>\n",
       "      <td>0.100745</td>\n",
       "      <td>-0.130726</td>\n",
       "    </tr>\n",
       "    <tr>\n",
       "      <th>121363</th>\n",
       "      <td>-0.214682</td>\n",
       "      <td>1.151621</td>\n",
       "      <td>1.177504</td>\n",
       "      <td>0.219977</td>\n",
       "      <td>-0.225287</td>\n",
       "      <td>-0.296375</td>\n",
       "      <td>-0.289487</td>\n",
       "      <td>0.266407</td>\n",
       "      <td>0.459758</td>\n",
       "    </tr>\n",
       "    <tr>\n",
       "      <th>121364</th>\n",
       "      <td>-0.443502</td>\n",
       "      <td>-0.361139</td>\n",
       "      <td>-0.559742</td>\n",
       "      <td>-0.429520</td>\n",
       "      <td>0.088271</td>\n",
       "      <td>-0.641614</td>\n",
       "      <td>-0.443681</td>\n",
       "      <td>0.100745</td>\n",
       "      <td>1.394330</td>\n",
       "    </tr>\n",
       "    <tr>\n",
       "      <th>121366</th>\n",
       "      <td>0.869726</td>\n",
       "      <td>1.191959</td>\n",
       "      <td>1.154219</td>\n",
       "      <td>-0.243950</td>\n",
       "      <td>-1.165961</td>\n",
       "      <td>-0.388439</td>\n",
       "      <td>1.149654</td>\n",
       "      <td>1.923029</td>\n",
       "      <td>0.860760</td>\n",
       "    </tr>\n",
       "  </tbody>\n",
       "</table>\n",
       "<p>58876 rows × 9 columns</p>\n",
       "</div>"
      ],
      "text/plain": [
       "          height       bmi      WHtR     hba1c       hdl   non_hdl       sbp  \\\n",
       "1       1.168186 -0.456668 -0.925723 -0.336735 -0.915115  1.936171 -0.392283   \n",
       "2      -0.483296 -0.783355 -0.279489 -0.986232  0.150982 -0.940821  0.275890   \n",
       "3      -1.010577 -0.125724 -0.148007 -0.336735  0.840810  0.555215  0.481481   \n",
       "4       1.028905  0.147592 -0.088218 -0.986232 -0.601557  0.831406  0.532879   \n",
       "5       0.113625 -0.545659 -0.269946  3.189105 -0.099864  1.452837 -0.186692   \n",
       "...          ...       ...       ...       ...       ...       ...       ...   \n",
       "121359  1.297519 -0.740389 -1.156648  0.034406  1.279791 -0.411455 -0.083896   \n",
       "121362 -1.050372 -1.318701 -0.624310  1.611755  0.464540 -1.999555  0.841267   \n",
       "121363 -0.214682  1.151621  1.177504  0.219977 -0.225287 -0.296375 -0.289487   \n",
       "121364 -0.443502 -0.361139 -0.559742 -0.429520  0.088271 -0.641614 -0.443681   \n",
       "121366  0.869726  1.191959  1.154219 -0.243950 -1.165961 -0.388439  1.149654   \n",
       "\n",
       "             dbp      eGFR  \n",
       "1      -1.058891  0.186490  \n",
       "2       1.343212  0.960026  \n",
       "3       0.266407 -0.150661  \n",
       "4       1.840198 -0.531079  \n",
       "5      -0.230580 -0.484505  \n",
       "...          ...       ...  \n",
       "121359  0.597732  0.077173  \n",
       "121362  0.100745 -0.130726  \n",
       "121363  0.266407  0.459758  \n",
       "121364  0.100745  1.394330  \n",
       "121366  1.923029  0.860760  \n",
       "\n",
       "[58876 rows x 9 columns]"
      ]
     },
     "execution_count": 5,
     "metadata": {},
     "output_type": "execute_result"
    }
   ],
   "source": [
    "data"
   ]
  },
  {
   "cell_type": "code",
   "execution_count": 6,
   "metadata": {},
   "outputs": [
    {
     "data": {
      "text/plain": [
       "array([[ 1.16818633, -0.45666756, -0.92572325, ..., -0.39228322,\n",
       "        -1.05889073,  0.18649042],\n",
       "       [-0.48329643, -0.78335454, -0.27948912, ...,  0.27588975,\n",
       "         1.34321152,  0.96002567],\n",
       "       [-1.01057707, -0.12572355, -0.14800652, ...,  0.48148143,\n",
       "         0.26640706, -0.15066133],\n",
       "       ...,\n",
       "       [-0.21468176,  1.15162078,  1.17750434, ..., -0.28948738,\n",
       "         0.26640706,  0.45975806],\n",
       "       [-0.44350166, -0.36113942, -0.55974171, ..., -0.44368114,\n",
       "         0.10074484,  1.39432987],\n",
       "       [ 0.86972559,  1.19195885,  1.15421921, ...,  1.1496544 ,\n",
       "         1.9230293 ,  0.86075981]])"
      ]
     },
     "execution_count": 6,
     "metadata": {},
     "output_type": "execute_result"
    }
   ],
   "source": [
    "np.asarray(data)"
   ]
  },
  {
   "cell_type": "code",
   "execution_count": 7,
   "metadata": {},
   "outputs": [],
   "source": [
    "## Multivaiate model\n",
    "# I think I have some issues with the priors\n",
    "\n",
    " # Fixed number of components.\n",
    "\n",
    "def model(K,h,data=None):\n",
    "    # Global variables.\n",
    "    weights = numpyro.sample('weights', dist.Dirichlet(0.5 * jnp.ones(K)))\n",
    "    scale = numpyro.sample('scale', dist.HalfNormal(2.)) # same variance paramter for all clusters\n",
    "    with numpyro.plate('components', K):\n",
    "        locs=numpyro.sample('locs',dist.MultivariateNormal(jnp.zeros(h),jnp.eye(h))) #  weird\n",
    "\n",
    "    with numpyro.plate('data', len(data)):\n",
    "        # Local variables\n",
    "        assignment = numpyro.sample('assignment', dist.Categorical(weights))\n",
    "        numpyro.sample('obs', dist.MultivariateNormal(locs[assignment], scale*jnp.eye(h)), obs=data)\n",
    "\n"
   ]
  },
  {
   "cell_type": "code",
   "execution_count": 8,
   "metadata": {},
   "outputs": [
    {
     "data": {
      "text/plain": [
       "DeviceArray([ 1.5053518 ,  0.48227185, -0.984928  , -0.25600165,\n",
       "              0.43856192, -1.2653244 , -1.2724206 ,  1.7150483 ,\n",
       "              0.0498327 ], dtype=float32)"
      ]
     },
     "execution_count": 8,
     "metadata": {},
     "output_type": "execute_result"
    }
   ],
   "source": [
    "key = jax.random.PRNGKey(3)\n",
    "h=9\n",
    "locs=dist.MultivariateNormal(jnp.zeros(h),jnp.eye(h)).expand([2]).sample(key)\n",
    "dist.MultivariateNormal(locs[1], 0.5*jnp.eye(h)).sample(key)\n"
   ]
  },
  {
   "cell_type": "code",
   "execution_count": 9,
   "metadata": {},
   "outputs": [
    {
     "name": "stdout",
     "output_type": "stream",
     "text": [
      "   Trace Shapes:          \n",
      "    Param Sites:          \n",
      "   Sample Sites:          \n",
      "    weights dist       | 3\n",
      "           value       | 3\n",
      "      scale dist       |  \n",
      "           value       |  \n",
      "components plate     3 |  \n",
      "       locs dist     3 | 9\n",
      "           value     3 | 9\n",
      "      data plate 58876 |  \n",
      " assignment dist 58876 |  \n",
      "           value 58876 |  \n",
      "        obs dist 58876 | 9\n",
      "           value 58876 | 9\n"
     ]
    }
   ],
   "source": [
    "### This is running the model without any data just to make sure that the shape of the different objects are correct\n",
    "# there is no fitting here\n",
    "\n",
    "\n",
    "with numpyro.handlers.seed(rng_seed=1):\n",
    "    trace = numpyro.handlers.trace(model).get_trace(data=np.asarray(data),K=3,h=9)\n",
    "print(numpyro.util.format_shapes(trace))"
   ]
  },
  {
   "cell_type": "code",
   "execution_count": 10,
   "metadata": {},
   "outputs": [
    {
     "data": {
      "image/svg+xml": "<?xml version=\"1.0\" encoding=\"UTF-8\" standalone=\"no\"?>\n<!DOCTYPE svg PUBLIC \"-//W3C//DTD SVG 1.1//EN\"\n \"http://www.w3.org/Graphics/SVG/1.1/DTD/svg11.dtd\">\n<!-- Generated by graphviz version 4.0.0 (0)\n -->\n<!-- Pages: 1 -->\n<svg width=\"301pt\" height=\"230pt\"\n viewBox=\"0.00 0.00 301.00 230.00\" xmlns=\"http://www.w3.org/2000/svg\" xmlns:xlink=\"http://www.w3.org/1999/xlink\">\n<g id=\"graph0\" class=\"graph\" transform=\"scale(1 1) rotate(0) translate(4 226)\">\n<polygon fill=\"white\" stroke=\"transparent\" points=\"-4,4 -4,-226 297,-226 297,4 -4,4\"/>\n<g id=\"clust1\" class=\"cluster\">\n<title>cluster_components</title>\n<polygon fill=\"none\" stroke=\"black\" points=\"202,-83 202,-158 285,-158 285,-83 202,-83\"/>\n<text text-anchor=\"middle\" x=\"243.5\" y=\"-90.8\" font-family=\"Times,serif\" font-size=\"14.00\">components</text>\n</g>\n<g id=\"clust2\" class=\"cluster\">\n<title>cluster_data</title>\n<polygon fill=\"none\" stroke=\"black\" points=\"8,-8 8,-158 126,-158 126,-8 8,-8\"/>\n<text text-anchor=\"middle\" x=\"106.5\" y=\"-15.8\" font-family=\"Times,serif\" font-size=\"14.00\">data</text>\n</g>\n<!-- weights -->\n<g id=\"node1\" class=\"node\">\n<title>weights</title>\n<ellipse fill=\"white\" stroke=\"black\" cx=\"67\" cy=\"-204\" rx=\"38.19\" ry=\"18\"/>\n<text text-anchor=\"middle\" x=\"67\" y=\"-200.3\" font-family=\"Times,serif\" font-size=\"14.00\">weights</text>\n</g>\n<!-- assignment -->\n<g id=\"node4\" class=\"node\">\n<title>assignment</title>\n<ellipse fill=\"white\" stroke=\"black\" cx=\"67\" cy=\"-132\" rx=\"50.89\" ry=\"18\"/>\n<text text-anchor=\"middle\" x=\"67\" y=\"-128.3\" font-family=\"Times,serif\" font-size=\"14.00\">assignment</text>\n</g>\n<!-- weights&#45;&gt;assignment -->\n<g id=\"edge1\" class=\"edge\">\n<title>weights&#45;&gt;assignment</title>\n<path fill=\"none\" stroke=\"black\" d=\"M67,-185.7C67,-177.98 67,-168.71 67,-160.11\"/>\n<polygon fill=\"black\" stroke=\"black\" points=\"70.5,-160.1 67,-150.1 63.5,-160.1 70.5,-160.1\"/>\n</g>\n<!-- scale -->\n<g id=\"node2\" class=\"node\">\n<title>scale</title>\n<ellipse fill=\"white\" stroke=\"black\" cx=\"164\" cy=\"-132\" rx=\"28.7\" ry=\"18\"/>\n<text text-anchor=\"middle\" x=\"164\" y=\"-128.3\" font-family=\"Times,serif\" font-size=\"14.00\">scale</text>\n</g>\n<!-- obs -->\n<g id=\"node5\" class=\"node\">\n<title>obs</title>\n<ellipse fill=\"grey\" stroke=\"black\" cx=\"91\" cy=\"-57\" rx=\"27\" ry=\"18\"/>\n<text text-anchor=\"middle\" x=\"91\" y=\"-53.3\" font-family=\"Times,serif\" font-size=\"14.00\">obs</text>\n</g>\n<!-- scale&#45;&gt;obs -->\n<g id=\"edge2\" class=\"edge\">\n<title>scale&#45;&gt;obs</title>\n<path fill=\"none\" stroke=\"black\" d=\"M154.66,-114.68C148.48,-104.78 139.75,-92.31 130,-83 126.92,-80.06 123.46,-77.27 119.89,-74.69\"/>\n<polygon fill=\"black\" stroke=\"black\" points=\"121.77,-71.75 111.52,-69.09 117.88,-77.56 121.77,-71.75\"/>\n</g>\n<!-- locs -->\n<g id=\"node3\" class=\"node\">\n<title>locs</title>\n<ellipse fill=\"white\" stroke=\"black\" cx=\"238\" cy=\"-132\" rx=\"27\" ry=\"18\"/>\n<text text-anchor=\"middle\" x=\"238\" y=\"-128.3\" font-family=\"Times,serif\" font-size=\"14.00\">locs</text>\n</g>\n<!-- locs&#45;&gt;obs -->\n<g id=\"edge3\" class=\"edge\">\n<title>locs&#45;&gt;obs</title>\n<path fill=\"none\" stroke=\"black\" d=\"M229.8,-114.79C223.59,-104.15 214.07,-90.81 202,-83 180,-68.76 150.99,-62.56 128.14,-59.9\"/>\n<polygon fill=\"black\" stroke=\"black\" points=\"128.42,-56.41 118.13,-58.91 127.73,-63.38 128.42,-56.41\"/>\n</g>\n<!-- assignment&#45;&gt;obs -->\n<g id=\"edge4\" class=\"edge\">\n<title>assignment&#45;&gt;obs</title>\n<path fill=\"none\" stroke=\"black\" d=\"M72.57,-114.07C75.44,-105.32 79.02,-94.43 82.26,-84.59\"/>\n<polygon fill=\"black\" stroke=\"black\" points=\"85.67,-85.43 85.46,-74.84 79.02,-83.25 85.67,-85.43\"/>\n</g>\n</g>\n</svg>\n",
      "text/plain": [
       "<graphviz.graphs.Digraph at 0x1207ed550>"
      ]
     },
     "execution_count": 10,
     "metadata": {},
     "output_type": "execute_result"
    }
   ],
   "source": [
    "numpyro.render_model(model, model_args=(3,9,np.asarray(data)))"
   ]
  },
  {
   "cell_type": "code",
   "execution_count": 11,
   "metadata": {},
   "outputs": [],
   "source": [
    "#guide = AutoDiagonalNormal(model) # The guide is what is doing the variational inference instead of the MCMC, basically fitting a distribution on the param to estimate (I think)\n",
    "#optimizer = numpyro.optim.Adam(step_size=0.001) # Step size is the learning rate, you want to start low and increase\n",
    "#svi = SVI(model, guide, optimizer, loss=Trace_ELBO())"
   ]
  },
  {
   "cell_type": "code",
   "execution_count": 12,
   "metadata": {},
   "outputs": [],
   "source": [
    "# I changed it to this \n",
    "# Previously it was what is in the cell above\n",
    "\n",
    "# Gives the error : 'AutoDiagonalNormal' object has no attribute '_init_latent'\n",
    "global_guide = AutoDelta(model)\n",
    "optimizer = numpyro.optim.Adam(step_size=0.001) # Step size is the learning rate, you want to start low and increase\n",
    "svi = SVI(model, global_guide, optimizer, loss=Trace_ELBO())"
   ]
  },
  {
   "cell_type": "code",
   "execution_count": 13,
   "metadata": {},
   "outputs": [
    {
     "name": "stderr",
     "output_type": "stream",
     "text": [
      "/var/folders/81/b4cplk1j4x11rl7011b9bpx40000gn/T/ipykernel_9695/3324042575.py:3: FutureWarning: Some algorithms will automatically enumerate the discrete latent site assignment of your model. In the future, enumerated sites need to be marked with `infer={'enumerate': 'parallel'}`.\n",
      "  svi_result = svi.run(rng_key, 10000,K=5,h=9,data= np.asarray(data))\n"
     ]
    },
    {
     "ename": "ValueError",
     "evalue": "Continuous inference cannot handle discrete sample site 'assignment'.",
     "output_type": "error",
     "traceback": [
      "\u001b[0;31m---------------------------------------------------------------------------\u001b[0m",
      "\u001b[0;31mKeyError\u001b[0m                                  Traceback (most recent call last)",
      "File \u001b[0;32m~/opt/anaconda3/envs/bayesian/lib/python3.9/site-packages/numpyro/distributions/transforms.py:1044\u001b[0m, in \u001b[0;36mConstraintRegistry.__call__\u001b[0;34m(self, constraint)\u001b[0m\n\u001b[1;32m   <a href='file:///~/opt/anaconda3/envs/bayesian/lib/python3.9/site-packages/numpyro/distributions/transforms.py?line=1042'>1043</a>\u001b[0m \u001b[39mtry\u001b[39;00m:\n\u001b[0;32m-> <a href='file:///~/opt/anaconda3/envs/bayesian/lib/python3.9/site-packages/numpyro/distributions/transforms.py?line=1043'>1044</a>\u001b[0m     factory \u001b[39m=\u001b[39m \u001b[39mself\u001b[39;49m\u001b[39m.\u001b[39;49m_registry[\u001b[39mtype\u001b[39;49m(constraint)]\n\u001b[1;32m   <a href='file:///~/opt/anaconda3/envs/bayesian/lib/python3.9/site-packages/numpyro/distributions/transforms.py?line=1044'>1045</a>\u001b[0m \u001b[39mexcept\u001b[39;00m \u001b[39mKeyError\u001b[39;00m \u001b[39mas\u001b[39;00m e:\n",
      "\u001b[0;31mKeyError\u001b[0m: <class 'numpyro.distributions.constraints._IntegerInterval'>",
      "\nThe above exception was the direct cause of the following exception:\n",
      "\u001b[0;31mNotImplementedError\u001b[0m                       Traceback (most recent call last)",
      "File \u001b[0;32m~/opt/anaconda3/envs/bayesian/lib/python3.9/site-packages/numpyro/infer/util.py:1050\u001b[0m, in \u001b[0;36mhelpful_support_errors\u001b[0;34m(site, raise_warnings)\u001b[0m\n\u001b[1;32m   <a href='file:///~/opt/anaconda3/envs/bayesian/lib/python3.9/site-packages/numpyro/infer/util.py?line=1048'>1049</a>\u001b[0m \u001b[39mtry\u001b[39;00m:\n\u001b[0;32m-> <a href='file:///~/opt/anaconda3/envs/bayesian/lib/python3.9/site-packages/numpyro/infer/util.py?line=1049'>1050</a>\u001b[0m     \u001b[39myield\u001b[39;00m\n\u001b[1;32m   <a href='file:///~/opt/anaconda3/envs/bayesian/lib/python3.9/site-packages/numpyro/infer/util.py?line=1050'>1051</a>\u001b[0m \u001b[39mexcept\u001b[39;00m \u001b[39mNotImplementedError\u001b[39;00m \u001b[39mas\u001b[39;00m e:\n",
      "File \u001b[0;32m~/opt/anaconda3/envs/bayesian/lib/python3.9/site-packages/numpyro/infer/autoguide.py:177\u001b[0m, in \u001b[0;36mAutoGuide._setup_prototype\u001b[0;34m(self, *args, **kwargs)\u001b[0m\n\u001b[1;32m    <a href='file:///~/opt/anaconda3/envs/bayesian/lib/python3.9/site-packages/numpyro/infer/autoguide.py?line=175'>176</a>\u001b[0m     \u001b[39mwith\u001b[39;00m helpful_support_errors(site):\n\u001b[0;32m--> <a href='file:///~/opt/anaconda3/envs/bayesian/lib/python3.9/site-packages/numpyro/infer/autoguide.py?line=176'>177</a>\u001b[0m         biject_to(site[\u001b[39m\"\u001b[39;49m\u001b[39mfn\u001b[39;49m\u001b[39m\"\u001b[39;49m]\u001b[39m.\u001b[39;49msupport)\n\u001b[1;32m    <a href='file:///~/opt/anaconda3/envs/bayesian/lib/python3.9/site-packages/numpyro/infer/autoguide.py?line=177'>178</a>\u001b[0m \u001b[39mfor\u001b[39;00m frame \u001b[39min\u001b[39;00m site[\u001b[39m\"\u001b[39m\u001b[39mcond_indep_stack\u001b[39m\u001b[39m\"\u001b[39m]:\n",
      "File \u001b[0;32m~/opt/anaconda3/envs/bayesian/lib/python3.9/site-packages/numpyro/distributions/transforms.py:1046\u001b[0m, in \u001b[0;36mConstraintRegistry.__call__\u001b[0;34m(self, constraint)\u001b[0m\n\u001b[1;32m   <a href='file:///~/opt/anaconda3/envs/bayesian/lib/python3.9/site-packages/numpyro/distributions/transforms.py?line=1044'>1045</a>\u001b[0m \u001b[39mexcept\u001b[39;00m \u001b[39mKeyError\u001b[39;00m \u001b[39mas\u001b[39;00m e:\n\u001b[0;32m-> <a href='file:///~/opt/anaconda3/envs/bayesian/lib/python3.9/site-packages/numpyro/distributions/transforms.py?line=1045'>1046</a>\u001b[0m     \u001b[39mraise\u001b[39;00m \u001b[39mNotImplementedError\u001b[39;00m \u001b[39mfrom\u001b[39;00m \u001b[39me\u001b[39;00m\n\u001b[1;32m   <a href='file:///~/opt/anaconda3/envs/bayesian/lib/python3.9/site-packages/numpyro/distributions/transforms.py?line=1047'>1048</a>\u001b[0m \u001b[39mreturn\u001b[39;00m factory(constraint)\n",
      "\u001b[0;31mNotImplementedError\u001b[0m: ",
      "\nDuring handling of the above exception, another exception occurred:\n",
      "\u001b[0;31mValueError\u001b[0m                                Traceback (most recent call last)",
      "\u001b[1;32m/Users/victorlhoste/Desktop/Pyro_git/Git/Bayeian_clustering_RFs/GMM_multi_theo.ipynb Cell 15'\u001b[0m in \u001b[0;36m<module>\u001b[0;34m\u001b[0m\n\u001b[1;32m      <a href='vscode-notebook-cell:/Users/victorlhoste/Desktop/Pyro_git/Git/Bayeian_clustering_RFs/GMM_multi_theo.ipynb#ch0000012?line=0'>1</a>\u001b[0m rng_key \u001b[39m=\u001b[39m jax\u001b[39m.\u001b[39mrandom\u001b[39m.\u001b[39mPRNGKey(\u001b[39m0\u001b[39m) \u001b[39m# Specificity of Jax (the tensor flow equivalent I think), you need to set the seed and use it in the line after\u001b[39;00m\n\u001b[0;32m----> <a href='vscode-notebook-cell:/Users/victorlhoste/Desktop/Pyro_git/Git/Bayeian_clustering_RFs/GMM_multi_theo.ipynb#ch0000012?line=2'>3</a>\u001b[0m svi_result \u001b[39m=\u001b[39m svi\u001b[39m.\u001b[39;49mrun(rng_key, \u001b[39m10000\u001b[39;49m,K\u001b[39m=\u001b[39;49m\u001b[39m5\u001b[39;49m,h\u001b[39m=\u001b[39;49m\u001b[39m9\u001b[39;49m,data\u001b[39m=\u001b[39;49m np\u001b[39m.\u001b[39;49masarray(data))\n\u001b[1;32m      <a href='vscode-notebook-cell:/Users/victorlhoste/Desktop/Pyro_git/Git/Bayeian_clustering_RFs/GMM_multi_theo.ipynb#ch0000012?line=3'>4</a>\u001b[0m params \u001b[39m=\u001b[39m svi_result\u001b[39m.\u001b[39mparams\n",
      "File \u001b[0;32m~/opt/anaconda3/envs/bayesian/lib/python3.9/site-packages/numpyro/infer/svi.py:342\u001b[0m, in \u001b[0;36mSVI.run\u001b[0;34m(self, rng_key, num_steps, progress_bar, stable_update, init_state, *args, **kwargs)\u001b[0m\n\u001b[1;32m    <a href='file:///~/opt/anaconda3/envs/bayesian/lib/python3.9/site-packages/numpyro/infer/svi.py?line=338'>339</a>\u001b[0m     \u001b[39mreturn\u001b[39;00m svi_state, loss\n\u001b[1;32m    <a href='file:///~/opt/anaconda3/envs/bayesian/lib/python3.9/site-packages/numpyro/infer/svi.py?line=340'>341</a>\u001b[0m \u001b[39mif\u001b[39;00m init_state \u001b[39mis\u001b[39;00m \u001b[39mNone\u001b[39;00m:\n\u001b[0;32m--> <a href='file:///~/opt/anaconda3/envs/bayesian/lib/python3.9/site-packages/numpyro/infer/svi.py?line=341'>342</a>\u001b[0m     svi_state \u001b[39m=\u001b[39m \u001b[39mself\u001b[39;49m\u001b[39m.\u001b[39;49minit(rng_key, \u001b[39m*\u001b[39;49margs, \u001b[39m*\u001b[39;49m\u001b[39m*\u001b[39;49mkwargs)\n\u001b[1;32m    <a href='file:///~/opt/anaconda3/envs/bayesian/lib/python3.9/site-packages/numpyro/infer/svi.py?line=342'>343</a>\u001b[0m \u001b[39melse\u001b[39;00m:\n\u001b[1;32m    <a href='file:///~/opt/anaconda3/envs/bayesian/lib/python3.9/site-packages/numpyro/infer/svi.py?line=343'>344</a>\u001b[0m     svi_state \u001b[39m=\u001b[39m init_state\n",
      "File \u001b[0;32m~/opt/anaconda3/envs/bayesian/lib/python3.9/site-packages/numpyro/infer/svi.py:180\u001b[0m, in \u001b[0;36mSVI.init\u001b[0;34m(self, rng_key, *args, **kwargs)\u001b[0m\n\u001b[1;32m    <a href='file:///~/opt/anaconda3/envs/bayesian/lib/python3.9/site-packages/numpyro/infer/svi.py?line=177'>178</a>\u001b[0m model_init \u001b[39m=\u001b[39m seed(\u001b[39mself\u001b[39m\u001b[39m.\u001b[39mmodel, model_seed)\n\u001b[1;32m    <a href='file:///~/opt/anaconda3/envs/bayesian/lib/python3.9/site-packages/numpyro/infer/svi.py?line=178'>179</a>\u001b[0m guide_init \u001b[39m=\u001b[39m seed(\u001b[39mself\u001b[39m\u001b[39m.\u001b[39mguide, guide_seed)\n\u001b[0;32m--> <a href='file:///~/opt/anaconda3/envs/bayesian/lib/python3.9/site-packages/numpyro/infer/svi.py?line=179'>180</a>\u001b[0m guide_trace \u001b[39m=\u001b[39m trace(guide_init)\u001b[39m.\u001b[39;49mget_trace(\u001b[39m*\u001b[39;49margs, \u001b[39m*\u001b[39;49m\u001b[39m*\u001b[39;49mkwargs, \u001b[39m*\u001b[39;49m\u001b[39m*\u001b[39;49m\u001b[39mself\u001b[39;49m\u001b[39m.\u001b[39;49mstatic_kwargs)\n\u001b[1;32m    <a href='file:///~/opt/anaconda3/envs/bayesian/lib/python3.9/site-packages/numpyro/infer/svi.py?line=180'>181</a>\u001b[0m model_trace \u001b[39m=\u001b[39m trace(replay(model_init, guide_trace))\u001b[39m.\u001b[39mget_trace(\n\u001b[1;32m    <a href='file:///~/opt/anaconda3/envs/bayesian/lib/python3.9/site-packages/numpyro/infer/svi.py?line=181'>182</a>\u001b[0m     \u001b[39m*\u001b[39margs, \u001b[39m*\u001b[39m\u001b[39m*\u001b[39mkwargs, \u001b[39m*\u001b[39m\u001b[39m*\u001b[39m\u001b[39mself\u001b[39m\u001b[39m.\u001b[39mstatic_kwargs\n\u001b[1;32m    <a href='file:///~/opt/anaconda3/envs/bayesian/lib/python3.9/site-packages/numpyro/infer/svi.py?line=182'>183</a>\u001b[0m )\n\u001b[1;32m    <a href='file:///~/opt/anaconda3/envs/bayesian/lib/python3.9/site-packages/numpyro/infer/svi.py?line=183'>184</a>\u001b[0m params \u001b[39m=\u001b[39m {}\n",
      "File \u001b[0;32m~/opt/anaconda3/envs/bayesian/lib/python3.9/site-packages/numpyro/handlers.py:171\u001b[0m, in \u001b[0;36mtrace.get_trace\u001b[0;34m(self, *args, **kwargs)\u001b[0m\n\u001b[1;32m    <a href='file:///~/opt/anaconda3/envs/bayesian/lib/python3.9/site-packages/numpyro/handlers.py?line=162'>163</a>\u001b[0m \u001b[39mdef\u001b[39;00m \u001b[39mget_trace\u001b[39m(\u001b[39mself\u001b[39m, \u001b[39m*\u001b[39margs, \u001b[39m*\u001b[39m\u001b[39m*\u001b[39mkwargs):\n\u001b[1;32m    <a href='file:///~/opt/anaconda3/envs/bayesian/lib/python3.9/site-packages/numpyro/handlers.py?line=163'>164</a>\u001b[0m     \u001b[39m\"\"\"\u001b[39;00m\n\u001b[1;32m    <a href='file:///~/opt/anaconda3/envs/bayesian/lib/python3.9/site-packages/numpyro/handlers.py?line=164'>165</a>\u001b[0m \u001b[39m    Run the wrapped callable and return the recorded trace.\u001b[39;00m\n\u001b[1;32m    <a href='file:///~/opt/anaconda3/envs/bayesian/lib/python3.9/site-packages/numpyro/handlers.py?line=165'>166</a>\u001b[0m \n\u001b[0;32m   (...)\u001b[0m\n\u001b[1;32m    <a href='file:///~/opt/anaconda3/envs/bayesian/lib/python3.9/site-packages/numpyro/handlers.py?line=168'>169</a>\u001b[0m \u001b[39m    :return: `OrderedDict` containing the execution trace.\u001b[39;00m\n\u001b[1;32m    <a href='file:///~/opt/anaconda3/envs/bayesian/lib/python3.9/site-packages/numpyro/handlers.py?line=169'>170</a>\u001b[0m \u001b[39m    \"\"\"\u001b[39;00m\n\u001b[0;32m--> <a href='file:///~/opt/anaconda3/envs/bayesian/lib/python3.9/site-packages/numpyro/handlers.py?line=170'>171</a>\u001b[0m     \u001b[39mself\u001b[39;49m(\u001b[39m*\u001b[39;49margs, \u001b[39m*\u001b[39;49m\u001b[39m*\u001b[39;49mkwargs)\n\u001b[1;32m    <a href='file:///~/opt/anaconda3/envs/bayesian/lib/python3.9/site-packages/numpyro/handlers.py?line=171'>172</a>\u001b[0m     \u001b[39mreturn\u001b[39;00m \u001b[39mself\u001b[39m\u001b[39m.\u001b[39mtrace\n",
      "File \u001b[0;32m~/opt/anaconda3/envs/bayesian/lib/python3.9/site-packages/numpyro/primitives.py:105\u001b[0m, in \u001b[0;36mMessenger.__call__\u001b[0;34m(self, *args, **kwargs)\u001b[0m\n\u001b[1;32m    <a href='file:///~/opt/anaconda3/envs/bayesian/lib/python3.9/site-packages/numpyro/primitives.py?line=102'>103</a>\u001b[0m     \u001b[39mreturn\u001b[39;00m \u001b[39mself\u001b[39m\n\u001b[1;32m    <a href='file:///~/opt/anaconda3/envs/bayesian/lib/python3.9/site-packages/numpyro/primitives.py?line=103'>104</a>\u001b[0m \u001b[39mwith\u001b[39;00m \u001b[39mself\u001b[39m:\n\u001b[0;32m--> <a href='file:///~/opt/anaconda3/envs/bayesian/lib/python3.9/site-packages/numpyro/primitives.py?line=104'>105</a>\u001b[0m     \u001b[39mreturn\u001b[39;00m \u001b[39mself\u001b[39;49m\u001b[39m.\u001b[39;49mfn(\u001b[39m*\u001b[39;49margs, \u001b[39m*\u001b[39;49m\u001b[39m*\u001b[39;49mkwargs)\n",
      "File \u001b[0;32m~/opt/anaconda3/envs/bayesian/lib/python3.9/site-packages/numpyro/primitives.py:105\u001b[0m, in \u001b[0;36mMessenger.__call__\u001b[0;34m(self, *args, **kwargs)\u001b[0m\n\u001b[1;32m    <a href='file:///~/opt/anaconda3/envs/bayesian/lib/python3.9/site-packages/numpyro/primitives.py?line=102'>103</a>\u001b[0m     \u001b[39mreturn\u001b[39;00m \u001b[39mself\u001b[39m\n\u001b[1;32m    <a href='file:///~/opt/anaconda3/envs/bayesian/lib/python3.9/site-packages/numpyro/primitives.py?line=103'>104</a>\u001b[0m \u001b[39mwith\u001b[39;00m \u001b[39mself\u001b[39m:\n\u001b[0;32m--> <a href='file:///~/opt/anaconda3/envs/bayesian/lib/python3.9/site-packages/numpyro/primitives.py?line=104'>105</a>\u001b[0m     \u001b[39mreturn\u001b[39;00m \u001b[39mself\u001b[39;49m\u001b[39m.\u001b[39;49mfn(\u001b[39m*\u001b[39;49margs, \u001b[39m*\u001b[39;49m\u001b[39m*\u001b[39;49mkwargs)\n",
      "File \u001b[0;32m~/opt/anaconda3/envs/bayesian/lib/python3.9/site-packages/numpyro/infer/autoguide.py:430\u001b[0m, in \u001b[0;36mAutoDelta.__call__\u001b[0;34m(self, *args, **kwargs)\u001b[0m\n\u001b[1;32m    <a href='file:///~/opt/anaconda3/envs/bayesian/lib/python3.9/site-packages/numpyro/infer/autoguide.py?line=426'>427</a>\u001b[0m \u001b[39mdef\u001b[39;00m \u001b[39m__call__\u001b[39m(\u001b[39mself\u001b[39m, \u001b[39m*\u001b[39margs, \u001b[39m*\u001b[39m\u001b[39m*\u001b[39mkwargs):\n\u001b[1;32m    <a href='file:///~/opt/anaconda3/envs/bayesian/lib/python3.9/site-packages/numpyro/infer/autoguide.py?line=427'>428</a>\u001b[0m     \u001b[39mif\u001b[39;00m \u001b[39mself\u001b[39m\u001b[39m.\u001b[39mprototype_trace \u001b[39mis\u001b[39;00m \u001b[39mNone\u001b[39;00m:\n\u001b[1;32m    <a href='file:///~/opt/anaconda3/envs/bayesian/lib/python3.9/site-packages/numpyro/infer/autoguide.py?line=428'>429</a>\u001b[0m         \u001b[39m# run model to inspect the model structure\u001b[39;00m\n\u001b[0;32m--> <a href='file:///~/opt/anaconda3/envs/bayesian/lib/python3.9/site-packages/numpyro/infer/autoguide.py?line=429'>430</a>\u001b[0m         \u001b[39mself\u001b[39;49m\u001b[39m.\u001b[39;49m_setup_prototype(\u001b[39m*\u001b[39;49margs, \u001b[39m*\u001b[39;49m\u001b[39m*\u001b[39;49mkwargs)\n\u001b[1;32m    <a href='file:///~/opt/anaconda3/envs/bayesian/lib/python3.9/site-packages/numpyro/infer/autoguide.py?line=431'>432</a>\u001b[0m     plates \u001b[39m=\u001b[39m \u001b[39mself\u001b[39m\u001b[39m.\u001b[39m_create_plates(\u001b[39m*\u001b[39margs, \u001b[39m*\u001b[39m\u001b[39m*\u001b[39mkwargs)\n\u001b[1;32m    <a href='file:///~/opt/anaconda3/envs/bayesian/lib/python3.9/site-packages/numpyro/infer/autoguide.py?line=432'>433</a>\u001b[0m     result \u001b[39m=\u001b[39m {}\n",
      "File \u001b[0;32m~/opt/anaconda3/envs/bayesian/lib/python3.9/site-packages/numpyro/infer/autoguide.py:404\u001b[0m, in \u001b[0;36mAutoDelta._setup_prototype\u001b[0;34m(self, *args, **kwargs)\u001b[0m\n\u001b[1;32m    <a href='file:///~/opt/anaconda3/envs/bayesian/lib/python3.9/site-packages/numpyro/infer/autoguide.py?line=402'>403</a>\u001b[0m \u001b[39mdef\u001b[39;00m \u001b[39m_setup_prototype\u001b[39m(\u001b[39mself\u001b[39m, \u001b[39m*\u001b[39margs, \u001b[39m*\u001b[39m\u001b[39m*\u001b[39mkwargs):\n\u001b[0;32m--> <a href='file:///~/opt/anaconda3/envs/bayesian/lib/python3.9/site-packages/numpyro/infer/autoguide.py?line=403'>404</a>\u001b[0m     \u001b[39msuper\u001b[39;49m()\u001b[39m.\u001b[39;49m_setup_prototype(\u001b[39m*\u001b[39;49margs, \u001b[39m*\u001b[39;49m\u001b[39m*\u001b[39;49mkwargs)\n\u001b[1;32m    <a href='file:///~/opt/anaconda3/envs/bayesian/lib/python3.9/site-packages/numpyro/infer/autoguide.py?line=404'>405</a>\u001b[0m     \u001b[39mwith\u001b[39;00m numpyro\u001b[39m.\u001b[39mhandlers\u001b[39m.\u001b[39mblock():\n\u001b[1;32m    <a href='file:///~/opt/anaconda3/envs/bayesian/lib/python3.9/site-packages/numpyro/infer/autoguide.py?line=405'>406</a>\u001b[0m         \u001b[39mself\u001b[39m\u001b[39m.\u001b[39m_init_locs \u001b[39m=\u001b[39m {\n\u001b[1;32m    <a href='file:///~/opt/anaconda3/envs/bayesian/lib/python3.9/site-packages/numpyro/infer/autoguide.py?line=406'>407</a>\u001b[0m             k: v\n\u001b[1;32m    <a href='file:///~/opt/anaconda3/envs/bayesian/lib/python3.9/site-packages/numpyro/infer/autoguide.py?line=407'>408</a>\u001b[0m             \u001b[39mfor\u001b[39;00m k, v \u001b[39min\u001b[39;00m \u001b[39mself\u001b[39m\u001b[39m.\u001b[39m_postprocess_fn(\u001b[39mself\u001b[39m\u001b[39m.\u001b[39m_init_locs)\u001b[39m.\u001b[39mitems()\n\u001b[1;32m    <a href='file:///~/opt/anaconda3/envs/bayesian/lib/python3.9/site-packages/numpyro/infer/autoguide.py?line=408'>409</a>\u001b[0m             \u001b[39mif\u001b[39;00m k \u001b[39min\u001b[39;00m \u001b[39mself\u001b[39m\u001b[39m.\u001b[39m_init_locs\n\u001b[1;32m    <a href='file:///~/opt/anaconda3/envs/bayesian/lib/python3.9/site-packages/numpyro/infer/autoguide.py?line=409'>410</a>\u001b[0m         }\n",
      "File \u001b[0;32m~/opt/anaconda3/envs/bayesian/lib/python3.9/site-packages/numpyro/infer/autoguide.py:177\u001b[0m, in \u001b[0;36mAutoGuide._setup_prototype\u001b[0;34m(self, *args, **kwargs)\u001b[0m\n\u001b[1;32m    <a href='file:///~/opt/anaconda3/envs/bayesian/lib/python3.9/site-packages/numpyro/infer/autoguide.py?line=173'>174</a>\u001b[0m \u001b[39mif\u001b[39;00m \u001b[39mnot\u001b[39;00m site[\u001b[39m\"\u001b[39m\u001b[39mis_observed\u001b[39m\u001b[39m\"\u001b[39m] \u001b[39mand\u001b[39;00m site[\u001b[39m\"\u001b[39m\u001b[39mfn\u001b[39m\u001b[39m\"\u001b[39m]\u001b[39m.\u001b[39msupport\u001b[39m.\u001b[39mis_discrete:\n\u001b[1;32m    <a href='file:///~/opt/anaconda3/envs/bayesian/lib/python3.9/site-packages/numpyro/infer/autoguide.py?line=174'>175</a>\u001b[0m     \u001b[39m# raise support errors early for discrete sites\u001b[39;00m\n\u001b[1;32m    <a href='file:///~/opt/anaconda3/envs/bayesian/lib/python3.9/site-packages/numpyro/infer/autoguide.py?line=175'>176</a>\u001b[0m     \u001b[39mwith\u001b[39;00m helpful_support_errors(site):\n\u001b[0;32m--> <a href='file:///~/opt/anaconda3/envs/bayesian/lib/python3.9/site-packages/numpyro/infer/autoguide.py?line=176'>177</a>\u001b[0m         biject_to(site[\u001b[39m\"\u001b[39m\u001b[39mfn\u001b[39m\u001b[39m\"\u001b[39m]\u001b[39m.\u001b[39msupport)\n\u001b[1;32m    <a href='file:///~/opt/anaconda3/envs/bayesian/lib/python3.9/site-packages/numpyro/infer/autoguide.py?line=177'>178</a>\u001b[0m \u001b[39mfor\u001b[39;00m frame \u001b[39min\u001b[39;00m site[\u001b[39m\"\u001b[39m\u001b[39mcond_indep_stack\u001b[39m\u001b[39m\"\u001b[39m]:\n\u001b[1;32m    <a href='file:///~/opt/anaconda3/envs/bayesian/lib/python3.9/site-packages/numpyro/infer/autoguide.py?line=178'>179</a>\u001b[0m     \u001b[39mif\u001b[39;00m frame\u001b[39m.\u001b[39mname \u001b[39min\u001b[39;00m \u001b[39mself\u001b[39m\u001b[39m.\u001b[39m_prototype_frames:\n",
      "File \u001b[0;32m~/opt/anaconda3/envs/bayesian/lib/python3.9/contextlib.py:137\u001b[0m, in \u001b[0;36m_GeneratorContextManager.__exit__\u001b[0;34m(self, typ, value, traceback)\u001b[0m\n\u001b[1;32m    <a href='file:///~/opt/anaconda3/envs/bayesian/lib/python3.9/contextlib.py?line=134'>135</a>\u001b[0m     value \u001b[39m=\u001b[39m typ()\n\u001b[1;32m    <a href='file:///~/opt/anaconda3/envs/bayesian/lib/python3.9/contextlib.py?line=135'>136</a>\u001b[0m \u001b[39mtry\u001b[39;00m:\n\u001b[0;32m--> <a href='file:///~/opt/anaconda3/envs/bayesian/lib/python3.9/contextlib.py?line=136'>137</a>\u001b[0m     \u001b[39mself\u001b[39;49m\u001b[39m.\u001b[39;49mgen\u001b[39m.\u001b[39;49mthrow(typ, value, traceback)\n\u001b[1;32m    <a href='file:///~/opt/anaconda3/envs/bayesian/lib/python3.9/contextlib.py?line=137'>138</a>\u001b[0m \u001b[39mexcept\u001b[39;00m \u001b[39mStopIteration\u001b[39;00m \u001b[39mas\u001b[39;00m exc:\n\u001b[1;32m    <a href='file:///~/opt/anaconda3/envs/bayesian/lib/python3.9/contextlib.py?line=138'>139</a>\u001b[0m     \u001b[39m# Suppress StopIteration *unless* it's the same exception that\u001b[39;00m\n\u001b[1;32m    <a href='file:///~/opt/anaconda3/envs/bayesian/lib/python3.9/contextlib.py?line=139'>140</a>\u001b[0m     \u001b[39m# was passed to throw().  This prevents a StopIteration\u001b[39;00m\n\u001b[1;32m    <a href='file:///~/opt/anaconda3/envs/bayesian/lib/python3.9/contextlib.py?line=140'>141</a>\u001b[0m     \u001b[39m# raised inside the \"with\" statement from being suppressed.\u001b[39;00m\n\u001b[1;32m    <a href='file:///~/opt/anaconda3/envs/bayesian/lib/python3.9/contextlib.py?line=141'>142</a>\u001b[0m     \u001b[39mreturn\u001b[39;00m exc \u001b[39mis\u001b[39;00m \u001b[39mnot\u001b[39;00m value\n",
      "File \u001b[0;32m~/opt/anaconda3/envs/bayesian/lib/python3.9/site-packages/numpyro/infer/util.py:1055\u001b[0m, in \u001b[0;36mhelpful_support_errors\u001b[0;34m(site, raise_warnings)\u001b[0m\n\u001b[1;32m   <a href='file:///~/opt/anaconda3/envs/bayesian/lib/python3.9/site-packages/numpyro/infer/util.py?line=1051'>1052</a>\u001b[0m support_name \u001b[39m=\u001b[39m \u001b[39mrepr\u001b[39m(support)\u001b[39m.\u001b[39mlower()\n\u001b[1;32m   <a href='file:///~/opt/anaconda3/envs/bayesian/lib/python3.9/site-packages/numpyro/infer/util.py?line=1052'>1053</a>\u001b[0m \u001b[39mif\u001b[39;00m \u001b[39m\"\u001b[39m\u001b[39minteger\u001b[39m\u001b[39m\"\u001b[39m \u001b[39min\u001b[39;00m support_name \u001b[39mor\u001b[39;00m \u001b[39m\"\u001b[39m\u001b[39mboolean\u001b[39m\u001b[39m\"\u001b[39m \u001b[39min\u001b[39;00m support_name:\n\u001b[1;32m   <a href='file:///~/opt/anaconda3/envs/bayesian/lib/python3.9/site-packages/numpyro/infer/util.py?line=1053'>1054</a>\u001b[0m     \u001b[39m# TODO: mention enumeration when it is supported in SVI\u001b[39;00m\n\u001b[0;32m-> <a href='file:///~/opt/anaconda3/envs/bayesian/lib/python3.9/site-packages/numpyro/infer/util.py?line=1054'>1055</a>\u001b[0m     \u001b[39mraise\u001b[39;00m \u001b[39mValueError\u001b[39;00m(\n\u001b[1;32m   <a href='file:///~/opt/anaconda3/envs/bayesian/lib/python3.9/site-packages/numpyro/infer/util.py?line=1055'>1056</a>\u001b[0m         \u001b[39mf\u001b[39m\u001b[39m\"\u001b[39m\u001b[39mContinuous inference cannot handle discrete sample site \u001b[39m\u001b[39m'\u001b[39m\u001b[39m{\u001b[39;00mname\u001b[39m}\u001b[39;00m\u001b[39m'\u001b[39m\u001b[39m.\u001b[39m\u001b[39m\"\u001b[39m\n\u001b[1;32m   <a href='file:///~/opt/anaconda3/envs/bayesian/lib/python3.9/site-packages/numpyro/infer/util.py?line=1056'>1057</a>\u001b[0m     )\n\u001b[1;32m   <a href='file:///~/opt/anaconda3/envs/bayesian/lib/python3.9/site-packages/numpyro/infer/util.py?line=1057'>1058</a>\u001b[0m \u001b[39mif\u001b[39;00m \u001b[39m\"\u001b[39m\u001b[39msphere\u001b[39m\u001b[39m\"\u001b[39m \u001b[39min\u001b[39;00m support_name:\n\u001b[1;32m   <a href='file:///~/opt/anaconda3/envs/bayesian/lib/python3.9/site-packages/numpyro/infer/util.py?line=1058'>1059</a>\u001b[0m     \u001b[39mraise\u001b[39;00m \u001b[39mValueError\u001b[39;00m(\n\u001b[1;32m   <a href='file:///~/opt/anaconda3/envs/bayesian/lib/python3.9/site-packages/numpyro/infer/util.py?line=1059'>1060</a>\u001b[0m         \u001b[39mf\u001b[39m\u001b[39m\"\u001b[39m\u001b[39mContinuous inference cannot handle spherical sample site \u001b[39m\u001b[39m'\u001b[39m\u001b[39m{\u001b[39;00mname\u001b[39m}\u001b[39;00m\u001b[39m'\u001b[39m\u001b[39m. \u001b[39m\u001b[39m\"\u001b[39m\n\u001b[1;32m   <a href='file:///~/opt/anaconda3/envs/bayesian/lib/python3.9/site-packages/numpyro/infer/util.py?line=1060'>1061</a>\u001b[0m         \u001b[39m\"\u001b[39m\u001b[39mConsider using ProjectedNormal distribution together with \u001b[39m\u001b[39m\"\u001b[39m\n\u001b[1;32m   <a href='file:///~/opt/anaconda3/envs/bayesian/lib/python3.9/site-packages/numpyro/infer/util.py?line=1061'>1062</a>\u001b[0m         \u001b[39m\"\u001b[39m\u001b[39ma reparameterizer, e.g. \u001b[39m\u001b[39m\"\u001b[39m\n\u001b[1;32m   <a href='file:///~/opt/anaconda3/envs/bayesian/lib/python3.9/site-packages/numpyro/infer/util.py?line=1062'>1063</a>\u001b[0m         \u001b[39mf\u001b[39m\u001b[39m\"\u001b[39m\u001b[39mnumpyro.handlers.reparam(config=\u001b[39m\u001b[39m{{\u001b[39;00m\u001b[39m'\u001b[39m\u001b[39m{\u001b[39;00mname\u001b[39m}\u001b[39;00m\u001b[39m'\u001b[39m\u001b[39m: ProjectedNormalReparam()\u001b[39m\u001b[39m}}\u001b[39;00m\u001b[39m).\u001b[39m\u001b[39m\"\u001b[39m\n\u001b[1;32m   <a href='file:///~/opt/anaconda3/envs/bayesian/lib/python3.9/site-packages/numpyro/infer/util.py?line=1063'>1064</a>\u001b[0m     )\n",
      "\u001b[0;31mValueError\u001b[0m: Continuous inference cannot handle discrete sample site 'assignment'."
     ]
    }
   ],
   "source": [
    "rng_key = jax.random.PRNGKey(0) # Specificity of Jax (the tensor flow equivalent I think), you need to set the seed and use it in the line after\n",
    "\n",
    "svi_result = svi.run(rng_key, 10000,K=5,h=9,data= np.asarray(data))\n",
    "params = svi_result.params"
   ]
  }
 ],
 "metadata": {
  "interpreter": {
   "hash": "019a4a8f7e1c41ac736e5243d7d3dc53b3f755a4f020afa0b74158986476ad4f"
  },
  "kernelspec": {
   "display_name": "Python 3.9.7 ('bayesian')",
   "language": "python",
   "name": "python3"
  },
  "language_info": {
   "codemirror_mode": {
    "name": "ipython",
    "version": 3
   },
   "file_extension": ".py",
   "mimetype": "text/x-python",
   "name": "python",
   "nbconvert_exporter": "python",
   "pygments_lexer": "ipython3",
   "version": "3.9.13"
  },
  "orig_nbformat": 4
 },
 "nbformat": 4,
 "nbformat_minor": 2
}
